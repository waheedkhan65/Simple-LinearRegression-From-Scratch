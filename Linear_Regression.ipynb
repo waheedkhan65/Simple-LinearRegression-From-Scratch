{
 "cells": [
  {
   "cell_type": "code",
   "execution_count": 1,
   "id": "7d28a470",
   "metadata": {},
   "outputs": [
    {
     "name": "stdout",
     "output_type": "stream",
     "text": [
      "0     6.0\n",
      "1     5.9\n",
      "2     6.1\n",
      "3     7.2\n",
      "4     6.2\n",
      "     ... \n",
      "95    5.8\n",
      "96    4.2\n",
      "97    7.2\n",
      "98    6.1\n",
      "99    6.0\n",
      "Name: placement, Length: 100, dtype: float64\n"
     ]
    }
   ],
   "source": [
    "import pandas as pd\n",
    "\n",
    "df = pd.read_csv(\"placement-dataset.csv\")\n",
    "\n",
    "# Drop missing values if any\n",
    "df = df.dropna()\n",
    "\n",
    "# Extract CGPA and Placement\n",
    "X = df['cgpa'].values\n",
    "Y = df['placement'].values.astype(float)\n",
    "\n",
    "print(df['placement'])"
   ]
  },
  {
   "cell_type": "code",
   "execution_count": 2,
   "id": "97fb8436",
   "metadata": {},
   "outputs": [
    {
     "data": {
      "text/plain": [
       "Text(0, 0.5, 'Placement')"
      ]
     },
     "execution_count": 2,
     "metadata": {},
     "output_type": "execute_result"
    },
    {
     "data": {
      "image/png": "[encoded data removed]",
      "text/plain": [
       "<Figure size 640x480 with 1 Axes>"
      ]
     },
     "metadata": {},
     "output_type": "display_data"
    }
   ],
   "source": [
    "import matplotlib.pyplot as plt\n",
    "\n",
    "X = df['cgpa'].values\n",
    "Y = df['placement'].values\n",
    "plt.scatter(X, Y, color='blue', label='Data Points')\n",
    "plt.xlabel('CGPA')\n",
    "plt.ylabel('Placement')"
   ]
  },
  {
   "cell_type": "code",
   "execution_count": 4,
   "id": "a213ca65",
   "metadata": {},
   "outputs": [],
   "source": [
    "# # Linear regression class using Closed-form solution\n",
    "import numpy as np\n",
    "\n",
    "class LinearRegression:\n",
    "    def __init__(self):\n",
    "        self.m = None\n",
    "        self.b = None\n",
    "\n",
    "    def fit(self, X_train, Y_train):\n",
    "        X_train = np.array(X_train)\n",
    "        Y_train = np.array(Y_train)\n",
    "\n",
    "        x_mean = X_train.mean()\n",
    "        y_mean = Y_train.mean()\n",
    "\n",
    "        numerator = np.sum((X_train - x_mean) * (Y_train - y_mean))\n",
    "        denominator = np.sum((X_train - x_mean) ** 2)\n",
    "\n",
    "        self.m = numerator / denominator\n",
    "        self.b = y_mean - (self.m * x_mean)\n",
    "\n",
    "        print(f\"Model trained:\\n  Slope = {self.m:.4f}, Intercept = {self.b:.4f}\")\n",
    "\n",
    "    def predict(self, X_test):\n",
    "        X_test = np.array(X_test)\n",
    "        return self.m * X_test + self.b"
   ]
  },
  {
   "cell_type": "code",
   "execution_count": 5,
   "id": "ac81c2e2",
   "metadata": {},
   "outputs": [
    {
     "name": "stdout",
     "output_type": "stream",
     "text": [
      "Model trained:\n",
      "  Slope = 0.6512, Intercept = 2.0967\n"
     ]
    }
   ],
   "source": [
    "# Initialize and train model\n",
    "model = LinearRegression()\n",
    "model.fit(X, Y)"
   ]
  },
  {
   "cell_type": "code",
   "execution_count": 6,
   "id": "e8ea0eab",
   "metadata": {},
   "outputs": [
    {
     "name": "stdout",
     "output_type": "stream",
     "text": [
      "Predicted placement for CGPA 4 is 4.70\n"
     ]
    }
   ],
   "source": [
    "# Predict placement for a given CGPA\n",
    "cgpa_value = 4\n",
    "predicted_placement = model.predict([cgpa_value])\n",
    "print(f\"Predicted placement for CGPA {cgpa_value} is {predicted_placement[0]:.2f}\")\n"
   ]
  },
  {
   "cell_type": "code",
   "execution_count": 7,
   "id": "2213c042",
   "metadata": {},
   "outputs": [],
   "source": [
    " # #  Linear regression class using Gradient Descent\n",
    "\n",
    "# #     import numpy as np\n",
    "\n",
    "# # class LinearRegression:\n",
    "# #     def __init__(self, learning_rate=0.01, epochs=1000):\n",
    "# #         self.m = 0  # slope\n",
    "# #         self.b = 0  # intercept\n",
    "# #         self.learning_rate = learning_rate\n",
    "# #         self.epochs = epochs\n",
    "\n",
    "# #     def fit_gradient_descent(self, X, Y):\n",
    "# #         n = len(X)\n",
    "\n",
    "# #         for epoch in range(self.epochs):\n",
    "# #             y_pred = self.m * X + self.b\n",
    "# #             error = Y - y_pred\n",
    "\n",
    "# #             # Gradients\n",
    "# #             dm = (-2 / n) * np.sum(X * error)\n",
    "# #             db = (-2 / n) * np.sum(error)\n",
    "\n",
    "# #             # Update parameters\n",
    "# #             self.m -= self.learning_rate * dm\n",
    "# #             self.b -= self.learning_rate * db\n",
    "\n",
    "# #             # Optional print every 100 epochs\n",
    "# #             if epoch % 100 == 0 or epoch == self.epochs - 1:\n",
    "# #                 loss = np.mean(error ** 2)\n",
    "# #                 print(f\"Epoch {epoch+1}: Loss = {loss:.4f}, m = {self.m:.4f}, b = {self.b:.4f}\")\n",
    "\n",
    "# #     def predict(self, X):\n",
    "# #         return self.m * X + self.b"
   ]
  }
 ],
 "metadata": {
  "kernelspec": {
   "display_name": "Python 3",
   "language": "python",
   "name": "python3"
  },
  "language_info": {
   "codemirror_mode": {
    "name": "ipython",
    "version": 3
   },
   "file_extension": ".py",
   "mimetype": "text/x-python",
   "name": "python",
   "nbconvert_exporter": "python",
   "pygments_lexer": "ipython3",
   "version": "3.13.3"
  }
 },
 "nbformat": 4,
 "nbformat_minor": 5
}
